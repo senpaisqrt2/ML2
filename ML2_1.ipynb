{
 "cells": [
  {
   "cell_type": "code",
   "execution_count": null,
   "metadata": {},
   "outputs": [],
   "source": [
    "import numpy as np\n",
    "import pandas as pd\n",
    "import matplotlib.pyplot as plt\n",
    "from sklearn.datasets import make_classification\n",
    "from sklearn.linear_model import LogisticRegression\n",
    "from sklearn.metrics import accuracy_score, f1_score"
   ]
  },
  {
   "cell_type": "code",
   "execution_count": null,
   "metadata": {},
   "outputs": [],
   "source": [
    "# Генерируем матрицу признаков и вектор целей для задачи классификации\n",
    "X, y = make_classification(n_samples=1000,\n",
    "                           n_features=2,\n",
    "                           n_informative=2,\n",
    "                           n_redundant=0,\n",
    "                           n_classes=2,\n",
    "                           class_sep=2,\n",
    "                           random_state=1)"
   ]
  },
  {
   "cell_type": "code",
   "execution_count": null,
   "metadata": {},
   "outputs": [],
   "source": [
    "# Выведем первые пять строк X\n",
    "print(pd.DataFrame(X).head())"
   ]
  },
  {
   "cell_type": "code",
   "execution_count": null,
   "metadata": {},
   "outputs": [],
   "source": [
    "# Построим график для визуализации данных\n",
    "plt.scatter(X[:, 0][y == 0], X[:, 1][y == 0], marker=\"o\", c='r', s=100, label='Class 0')\n",
    "plt.scatter(X[:, 0][y == 1], X[:, 1][y == 1], marker=\"x\", c='b', s=100, label='Class 1')\n",
    "plt.xlabel('Feature 1')\n",
    "plt.ylabel('Feature 2')\n",
    "plt.title('Generated Dataset')\n",
    "plt.legend()\n",
    "plt.show()"
   ]
  },
  {
   "cell_type": "code",
   "execution_count": null,
   "metadata": {},
   "outputs": [],
   "source": [
    "# Реализация градиентного спуска\n",
    "class SGD:\n",
    "    def __init__(self, alpha=0.5, n_iters=1000):\n",
    "        self.b = None\n",
    "        self._alpha = alpha\n",
    "        self._n_iters = n_iters\n",
    "\n",
    "    def gradient_step(self, b, b_grad):\n",
    "        return b - self._alpha * b_grad\n",
    "\n",
    "    def optimize(self, X, y, start_b, n_iters):\n",
    "        b = start_b.copy()\n",
    "        for i in range(n_iters):\n",
    "            b_grad = self.grad_func(X, y, b)\n",
    "            b = self.gradient_step(b, b_grad)\n",
    "        return b"
   ]
  },
  {
   "cell_type": "code",
   "execution_count": null,
   "metadata": {},
   "outputs": [],
   "source": [
    "# Реализация логистической регрессии\n",
    "class LogReg(SGD):\n",
    "    def sigmoid(self, X, b):\n",
    "        return 1. / (1. + np.exp(-X.dot(b)))\n",
    "\n",
    "    def grad_func(self, X, y, b):\n",
    "        n = X.shape[0]\n",
    "        grad = 1. / n * X.transpose().dot(self.sigmoid(X, b) - y)\n",
    "        return grad\n",
    "\n",
    "    def fit(self, X, y):\n",
    "        m = X.shape[1]\n",
    "        start_b = np.zeros(m)\n",
    "        self.b = self.optimize(X, y, start_b, self._n_iters)\n",
    "\n",
    "    def predict_proba(self, X):\n",
    "        return self.sigmoid(X, self.b)\n",
    "\n",
    "    def predict(self, X):\n",
    "        y_pred = self.predict_proba(X) > 0.5\n",
    "        return y_pred.astype(int)"
   ]
  },
  {
   "cell_type": "code",
   "execution_count": null,
   "metadata": {},
   "outputs": [],
   "source": [
    "# Добавляем фиктивный столбец единиц к матрице признаков\n",
    "X = np.hstack([np.ones(X.shape[0])[:, np.newaxis], X])"
   ]
  },
  {
   "cell_type": "code",
   "execution_count": null,
   "metadata": {},
   "outputs": [],
   "source": [
    "# Создаем и обучаем модель логистической регрессии\n",
    "logreg = LogReg(alpha=0.1, n_iters=1000)\n",
    "logreg.fit(X, y)"
   ]
  },
  {
   "cell_type": "code",
   "execution_count": null,
   "metadata": {},
   "outputs": [],
   "source": [
    "# Делаем предсказание и вычисляем метрики качества\n",
    "y_pred = logreg.predict(X)\n",
    "ac = accuracy_score(y, y_pred)\n",
    "f1 = f1_score(y, y_pred)\n",
    "print(f'Accuracy = {ac:.2f} F1-score = {f1:.2f}')"
   ]
  },
  {
   "cell_type": "code",
   "execution_count": null,
   "metadata": {},
   "outputs": [],
   "source": [
    "# Выводим значения вероятностей для каждого объекта принадлежать тому или иному классу\n",
    "y_pred_proba = logreg.predict_proba(X)"
   ]
  },
  {
   "cell_type": "code",
   "execution_count": null,
   "metadata": {},
   "outputs": [],
   "source": [
    "# Построим график разделяющей границы\n",
    "xx, yy = np.meshgrid(\n",
    "    np.arange(X.min(axis=0)[1] - 1, X.max(axis=0)[1] + 1, 0.01), \n",
    "    np.arange(X.min(axis=0)[2] - 1, X.max(axis=0)[2] + 1, 0.01))\n",
    "XX = np.array(list(zip(xx.ravel(), yy.ravel()))).reshape((-1, 2))\n",
    "XX = np.array([(1, *xx) for xx in XX])\n",
    "\n",
    "Z = logreg.predict_proba(XX)\n",
    "Z = Z.reshape(xx.shape)\n",
    "\n",
    "plt.contourf(xx, yy, Z, alpha=0.4)\n",
    "plt.scatter(X[:, 1][y == 0], X[:, 2][y == 0], marker=\"o\", c='r', s=100, label='Class 0')\n",
    "plt.scatter(X[:, 1][y == 1], X[:, 2][y == 1], marker=\"x\", c='b', s=100, label='Class 1')\n",
    "plt.xlabel('Feature 1')\n",
    "plt.ylabel('Feature 2')\n",
    "plt.title('Logistic Regression Decision Boundary')\n",
    "plt.legend()\n",
    "plt.show()"
   ]
  },
  {
   "cell_type": "code",
   "execution_count": null,
   "metadata": {},
   "outputs": [],
   "source": [
    "# Проверка работы библиотечной модели\n",
    "model = LogisticRegression()\n",
    "model.fit(X[:, 1:], y)  # Используем только признаковые столбцы без фиктивного\n",
    "y_pred_lr = model.predict(X[:, 1:])\n",
    "ac_lr = accuracy_score(y, y_pred_lr)\n",
    "f1_lr = f1_score(y, y_pred_lr)\n",
    "print(f'Library Accuracy = {ac_lr:.2f} Library F1-score = {f1_lr:.2f}')"
   ]
  }
 ],
 "metadata": {
  "kernelspec": {
   "display_name": "Python 3",
   "language": "python",
   "name": "python3"
  },
  "language_info": {
   "codemirror_mode": {
    "name": "ipython",
    "version": 3
   },
   "file_extension": ".py",
   "mimetype": "text/x-python",
   "name": "python",
   "nbconvert_exporter": "python",
   "pygments_lexer": "ipython3",
   "version": "3.8.5"
  }
 },
 "nbformat": 4,
 "nbformat_minor": 4
}